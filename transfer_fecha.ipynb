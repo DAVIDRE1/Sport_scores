{
 "cells": [
  {
   "cell_type": "code",
   "execution_count": 1,
   "metadata": {},
   "outputs": [],
   "source": [
    "from selenium import webdriver\n",
    "from selenium.webdriver.chrome.service import Service\n",
    "from selenium.common.exceptions import NoSuchElementException\n",
    "from webdriver_manager.chrome import ChromeDriverManager\n",
    "from selenium.webdriver.common.by import By\n",
    "import pandas as pd\n",
    "from datetime import datetime\n",
    "import numpy as np\n"
   ]
  },
  {
   "cell_type": "code",
   "execution_count": 2,
   "metadata": {},
   "outputs": [],
   "source": [
    "torneo = \"liga-dimayor-apertura\"\n",
    "fase = \"todos contra todos\""
   ]
  },
  {
   "cell_type": "code",
   "execution_count": 3,
   "metadata": {},
   "outputs": [],
   "source": [
    "partidos = pd.DataFrame(columns=['year', 'torneo', 'fase', 'jornada', 'local', 'goles_local', 'goles_visitante', 'visitante', 'fecha', 'dia', 'arbitro', 'pos_local', 'pos_visitante', 'gana_local', 'empate', 'gana_visitante'])\n"
   ]
  },
  {
   "cell_type": "code",
   "execution_count": 4,
   "metadata": {},
   "outputs": [],
   "source": [
    "\n",
    "def scrap_page(url, year, jornada):\n",
    "\n",
    "    # Create a WebDriver instance for Chrome\n",
    "    # os.environ[\"webdriver.chrome.driver\"] = \"C:\\path\\to\\chromedriver.exe\"\n",
    "    driver = webdriver.Chrome(service=Service(ChromeDriverManager().install()))\n",
    "    driver.maximize_window()\n",
    "    # Visit the website\n",
    "    # driver.get(url)\n",
    "\n",
    "    # Click on accept cookies policy\n",
    "    # time.sleep(2)\n",
    "    # WebDriverWait(driver, 20).until(EC.frame_to_be_available_and_switch_to_it((By.ID, \"sp_message_iframe_851961\")))\n",
    "    # WebDriverWait(driver, 20).until(EC.element_to_be_clickable((By.XPATH, \"//button[@aria-label='Aceptar']\"))).click()\n",
    "    # time.sleep(2)\n",
    "\n",
    "    driver.get(url)\n",
    "    div_element = driver.find_element(By.CSS_SELECTOR, 'div.large-8.columns')\n",
    "    boxes = div_element.find_elements(By.XPATH, 'div[@class=\"box\"] [@style=\"border-top: 0 !important;\"]')\n",
    "    print(len(boxes))\n",
    "    \n",
    "    for i in range(len(boxes)):\n",
    "        l = [year, torneo, fase, jornada]\n",
    "        l.append(boxes[i].find_element(By.XPATH, f'''./table/tbody/tr[1]/td[1]/a''').get_attribute(\"innerText\")) # home\n",
    "        l.append(boxes[i].find_element(By.XPATH, f'''./table/tbody/tr[1]/td[5]/span/a/span''').get_attribute(\"innerText\").split(\":\")[0]) # goals home\n",
    "        l.append(boxes[i].find_element(By.XPATH, f'''./table/tbody/tr[1]/td[5]/span/a/span''').get_attribute(\"innerText\").split(\":\")[1]) # goals visitor\n",
    "        l.append(boxes[i].find_element(By.XPATH, f'''./table/tbody/tr[1]/td[8]/a''').get_attribute(\"innerText\")) # visitor\n",
    "        l.append(datetime.strptime(boxes[i].find_element(By.XPATH, f'''./table/tbody/tr[2]/td/a''').get_attribute(\"href\").split(\"/\")[-1], \"%Y-%m-%d\").date()) # date\n",
    "        l.append(boxes[i].find_element(By.XPATH, f'''./table/tbody/tr[2]/td''').get_attribute(\"innerText\").split(\",\")[0]) # day\n",
    "        try:\n",
    "            l.append(boxes[i].find_element(By.XPATH, f'''./table/tbody/tr[3]/td''').get_attribute(\"innerText\").split(\"·\")[-1].strip()) # referee\n",
    "        except NoSuchElementException:\n",
    "            l.append(np.nan) \n",
    "        try:\n",
    "            l.append(boxes[i].find_element(By.XPATH, f'''./table/tbody/tr[1]/td[1]/span''').get_attribute(\"innerText\").replace(\"(\",\"\").replace(\".)\",\"\")) # pos home\n",
    "        except NoSuchElementException:\n",
    "            l.append(np.nan) \n",
    "        try:\n",
    "            l.append(boxes[i].find_element(By.XPATH, f'''./table/tbody/tr[1]/td[8]/span''').get_attribute(\"innerText\").replace(\"(\",\"\").replace(\".)\",\"\")) # pos visitor\n",
    "        except NoSuchElementException:\n",
    "            l.append(np.nan)     \n",
    "\n",
    "        if ((l[5] == \"-\") or (l[6] == \"-\")):\n",
    "            l=l+[np.nan,np.nan,np.nan]\n",
    "        elif l[5] > l[6]:\n",
    "            l=l+[True,False,False]\n",
    "        elif l[5] == l[6]:\n",
    "            l=l+[False,True,False]\n",
    "        else:\n",
    "            l=l+[False,False,True]\n",
    "        partidos.loc[len(partidos)] = l\n",
    "\n",
    "    driver.quit()\n",
    "    return partidos"
   ]
  },
  {
   "cell_type": "code",
   "execution_count": 5,
   "metadata": {},
   "outputs": [],
   "source": [
    "def get_cantidad(url):\n",
    "    # Create a WebDriver instance for Chrome\n",
    "    driver = webdriver.Chrome(service=Service(ChromeDriverManager().install()))\n",
    "    driver.maximize_window()\n",
    "    # Visit the website\n",
    "    driver.get(url)\n",
    "    selector = driver.find_elements(By.CSS_SELECTOR, 'ul.chzn-results')[1]\n",
    "    fechas = selector.find_elements(By.XPATH, './*')\n",
    "    cantidad = len(fechas)\n",
    "    driver.quit()\n",
    "    return cantidad"
   ]
  },
  {
   "cell_type": "code",
   "execution_count": 6,
   "metadata": {},
   "outputs": [
    {
     "name": "stdout",
     "output_type": "stream",
     "text": [
      "https://www.transfermarkt.es/liga-dimayor-apertura/spieltag/wettbewerb/COLP/spieltag/10/saison_id/2023\n",
      "0\n"
     ]
    },
    {
     "name": "stderr",
     "output_type": "stream",
     "text": [
      "/var/folders/g9/q6tzypkx56110bt4s_wsr1y40000gn/T/ipykernel_3758/1575367936.py:6: FutureWarning: The frame.append method is deprecated and will be removed from pandas in a future version. Use pandas.concat instead.\n",
      "  partidos.append(scrap_page(website, i, j))\n"
     ]
    },
    {
     "data": {
      "text/html": [
       "<div>\n",
       "<style scoped>\n",
       "    .dataframe tbody tr th:only-of-type {\n",
       "        vertical-align: middle;\n",
       "    }\n",
       "\n",
       "    .dataframe tbody tr th {\n",
       "        vertical-align: top;\n",
       "    }\n",
       "\n",
       "    .dataframe thead th {\n",
       "        text-align: right;\n",
       "    }\n",
       "</style>\n",
       "<table border=\"1\" class=\"dataframe\">\n",
       "  <thead>\n",
       "    <tr style=\"text-align: right;\">\n",
       "      <th></th>\n",
       "      <th>year</th>\n",
       "      <th>torneo</th>\n",
       "      <th>fase</th>\n",
       "      <th>jornada</th>\n",
       "      <th>local</th>\n",
       "      <th>goles_local</th>\n",
       "      <th>goles_visitante</th>\n",
       "      <th>visitante</th>\n",
       "      <th>fecha</th>\n",
       "      <th>dia</th>\n",
       "      <th>arbitro</th>\n",
       "      <th>pos_local</th>\n",
       "      <th>pos_visitante</th>\n",
       "      <th>gana_local</th>\n",
       "      <th>empate</th>\n",
       "      <th>gana_visitante</th>\n",
       "    </tr>\n",
       "  </thead>\n",
       "  <tbody>\n",
       "  </tbody>\n",
       "</table>\n",
       "</div>"
      ],
      "text/plain": [
       "Empty DataFrame\n",
       "Columns: [year, torneo, fase, jornada, local, goles_local, goles_visitante, visitante, fecha, dia, arbitro, pos_local, pos_visitante, gana_local, empate, gana_visitante]\n",
       "Index: []"
      ]
     },
     "execution_count": 6,
     "metadata": {},
     "output_type": "execute_result"
    }
   ],
   "source": [
    "for i in range(2024,2025):\n",
    "    for j in range(10,11):\n",
    "        # website = f\"https://www.transfermarkt.es/liga-dimayor-finalizacion/spieltag/wettbewerb/COL1/spieltag/{str(j)}/saison_id/{i-1}\"\n",
    "        website = f\"https://www.transfermarkt.es/liga-dimayor-apertura/spieltag/wettbewerb/COLP/spieltag/{str(j)}/saison_id/{i-1}\"\n",
    "        print(website)\n",
    "        partidos.append(scrap_page(website, i, j))\n",
    "partidos[\"goles_local\"] = partidos[\"goles_local\"].replace(\"-\",np.nan).astype(float)\n",
    "partidos[\"goles_visitante\"] = partidos[\"goles_visitante\"].replace(\"-\",np.nan).astype(float)\n",
    "partidos"
   ]
  },
  {
   "cell_type": "code",
   "execution_count": 7,
   "metadata": {},
   "outputs": [],
   "source": [
    "partidos.to_csv(\"future_scores.csv\", index=False, header=True)"
   ]
  }
 ],
 "metadata": {
  "kernelspec": {
   "display_name": "base",
   "language": "python",
   "name": "python3"
  },
  "language_info": {
   "codemirror_mode": {
    "name": "ipython",
    "version": 3
   },
   "file_extension": ".py",
   "mimetype": "text/x-python",
   "name": "python",
   "nbconvert_exporter": "python",
   "pygments_lexer": "ipython3",
   "version": "3.11.0"
  },
  "orig_nbformat": 4
 },
 "nbformat": 4,
 "nbformat_minor": 2
}
